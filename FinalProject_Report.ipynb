{
 "cells": [
  {
   "cell_type": "markdown",
   "metadata": {},
   "source": [
    "# Final Project: Business Problem and Data Descrption\n",
    "\n",
    "## Introduction\n",
    "\n",
    "### Business Problem\n",
    "\n",
    "Distinguished members of the board of Restaurant Consulting Consortium, we have been tasked by a client to find the optimal \n",
    "location of a new location somewhere in the greater Toronto metropolitan area. In order to address this question that we \n",
    "have been asked to solve, we have asked our data scientists and business analysts to produce a report that will analyze the composition of different neighborhoods and what types of business are located in each. This analysis should yield some greater understanding of where a restaurant may be more or less successful and what type of restaurant may be the most successful.\n",
    "\n",
    "\n",
    "### Data Description\n",
    "\n",
    "Our data scientists and analysts have wrangled some preliminary information and data in the form of postal codes and gps coordinates of the neighborhoods located in Toronto. This information can be leveraged with the Foursquare API to determine what business are in each neighborhood. Our client has limited capital to open this restaurant in a short period of time so we have decided to focus our analysis on neighborhoods further from the financial district where overhead expenses are larger.\n",
    "\n",
    "## Methodology\n",
    "\n",
    "The first step in this project was to scrape the data pertaining to the Toronto neighborhoods from the given websites. Data from the first website included the name of the neighborhood, borough, and the postal code for the neighborhood. This information was captured using the BeautifulSoup library in python to convert the xml to an html format that could then be read into a pandas data frame. Some initial statistics were taken at this point to determine how many neighborhoods were in each of the boroughs, information that was useful in furthering the project. \n",
    "\n",
    "The second website included gps information that corresponded to the postal code of each neighborhood. Once this information was loaded into a pandas dataframe the two dataframes were joined."
   ]
  },
  {
   "cell_type": "code",
   "execution_count": null,
   "metadata": {},
   "outputs": [],
   "source": []
  }
 ],
 "metadata": {
  "kernelspec": {
   "display_name": "Python 3",
   "language": "python",
   "name": "python3"
  },
  "language_info": {
   "codemirror_mode": {
    "name": "ipython",
    "version": 3
   },
   "file_extension": ".py",
   "mimetype": "text/x-python",
   "name": "python",
   "nbconvert_exporter": "python",
   "pygments_lexer": "ipython3",
   "version": "3.7.4"
  }
 },
 "nbformat": 4,
 "nbformat_minor": 2
}
